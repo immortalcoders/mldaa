{
 "cells": [
  {
   "cell_type": "code",
   "execution_count": null,
   "id": "08e6e4cd",
   "metadata": {},
   "outputs": [
    {
     "ename": "",
     "evalue": "",
     "output_type": "error",
     "traceback": [
      "\u001b[1;31mFailed to start the Kernel. \n",
      "\u001b[1;31mConnection is disposed. \n",
      "\u001b[1;31mView Jupyter <a href='command:jupyter.viewOutput'>log</a> for further details."
     ]
    }
   ],
   "source": [
    "import os\n",
    "os.getcwd()"
   ]
  },
  {
   "cell_type": "code",
   "execution_count": null,
   "id": "19cec3af",
   "metadata": {},
   "outputs": [],
   "source": [
    "import pandas as pd"
   ]
  },
  {
   "cell_type": "code",
   "execution_count": null,
   "id": "db8f8703",
   "metadata": {},
   "outputs": [],
   "source": [
    "#import the dataset\n",
    "df = pd.read_csv('Heart.csv')"
   ]
  },
  {
   "cell_type": "code",
   "execution_count": null,
   "id": "19dbad75",
   "metadata": {},
   "outputs": [],
   "source": [
    "df.head()"
   ]
  },
  {
   "cell_type": "code",
   "execution_count": null,
   "id": "a21e7a2f",
   "metadata": {},
   "outputs": [],
   "source": [
    "#shape\n",
    "df.shape"
   ]
  },
  {
   "cell_type": "code",
   "execution_count": null,
   "id": "da41cb68",
   "metadata": {},
   "outputs": [],
   "source": [
    "#Find missing values\n",
    "df.isnull().sum()"
   ]
  },
  {
   "cell_type": "code",
   "execution_count": null,
   "id": "abc4e68e",
   "metadata": {},
   "outputs": [],
   "source": [
    "df.count()"
   ]
  },
  {
   "cell_type": "code",
   "execution_count": null,
   "id": "bc0d4cf0",
   "metadata": {},
   "outputs": [],
   "source": [
    "#Find data type\n",
    "df.dtypes"
   ]
  },
  {
   "cell_type": "code",
   "execution_count": null,
   "id": "a259c03a",
   "metadata": {},
   "outputs": [],
   "source": [
    "#Find out zeros\n",
    "df == 0"
   ]
  },
  {
   "cell_type": "code",
   "execution_count": null,
   "id": "00dcadaa",
   "metadata": {},
   "outputs": [],
   "source": [
    "df[df == 0]"
   ]
  },
  {
   "cell_type": "code",
   "execution_count": null,
   "id": "bfae9450",
   "metadata": {},
   "outputs": [],
   "source": [
    "df[df == 0].count()"
   ]
  },
  {
   "cell_type": "code",
   "execution_count": null,
   "id": "84adfee4",
   "metadata": {},
   "outputs": [],
   "source": [
    "df.columns"
   ]
  },
  {
   "cell_type": "code",
   "execution_count": null,
   "id": "dbf97207",
   "metadata": {},
   "outputs": [],
   "source": [
    "# Find mean of age\n",
    "df['Age'].mean()"
   ]
  },
  {
   "cell_type": "code",
   "execution_count": null,
   "id": "56e6b598",
   "metadata": {},
   "outputs": [],
   "source": [
    "df[['Age', 'Sex', 'ChestPain', 'RestBP', 'Chol']]"
   ]
  },
  {
   "cell_type": "code",
   "execution_count": null,
   "id": "bc7f6b0b",
   "metadata": {},
   "outputs": [],
   "source": [
    "#Cross validation\n",
    "from sklearn.model_selection import train_test_split"
   ]
  },
  {
   "cell_type": "code",
   "execution_count": null,
   "id": "414835c0",
   "metadata": {},
   "outputs": [],
   "source": [
    "train, test = train_test_split(df, random_state=0, test_size=0.25)"
   ]
  },
  {
   "cell_type": "code",
   "execution_count": null,
   "id": "2977d66d",
   "metadata": {},
   "outputs": [],
   "source": [
    "train.shape"
   ]
  },
  {
   "cell_type": "code",
   "execution_count": null,
   "id": "dac4f60d",
   "metadata": {},
   "outputs": [],
   "source": [
    "test.shape"
   ]
  },
  {
   "cell_type": "code",
   "execution_count": null,
   "id": "54f15243",
   "metadata": {},
   "outputs": [],
   "source": [
    "import numpy as np"
   ]
  },
  {
   "cell_type": "code",
   "execution_count": null,
   "id": "5e93eb48",
   "metadata": {},
   "outputs": [],
   "source": [
    "actual = list(np.ones(45)) + list(np.zeros(55))"
   ]
  },
  {
   "cell_type": "code",
   "execution_count": null,
   "id": "19840eb8",
   "metadata": {},
   "outputs": [],
   "source": [
    "np.array(actual)actual = list(np.ones(45)) + list(np.zeros(55))"
   ]
  },
  {
   "cell_type": "code",
   "execution_count": null,
   "id": "12392de9",
   "metadata": {},
   "outputs": [],
   "source": [
    "predicted = list(np.ones(40)) + list(np.zeros(52)) + list(np.ones(8))\n",
    "np.array(predicted)"
   ]
  },
  {
   "cell_type": "code",
   "execution_count": null,
   "id": "70b34d15",
   "metadata": {},
   "outputs": [],
   "source": [
    "from sklearn.metrics import ConfusionMatrixDisplay"
   ]
  },
  {
   "cell_type": "code",
   "execution_count": null,
   "id": "119b06e7",
   "metadata": {},
   "outputs": [],
   "source": [
    "ConfusionMatrixDisplay.from_predictions(actual, predicted)"
   ]
  },
  {
   "cell_type": "code",
   "execution_count": null,
   "id": "2d1273bc",
   "metadata": {},
   "outputs": [],
   "source": [
    "from sklearn.metrics import classification_report"
   ]
  },
  {
   "cell_type": "code",
   "execution_count": null,
   "id": "098e9ee2",
   "metadata": {},
   "outputs": [],
   "source": [
    "print(classification_report(actual, predicted))"
   ]
  },
  {
   "cell_type": "code",
   "execution_count": null,
   "id": "b1d81749",
   "metadata": {},
   "outputs": [],
   "source": [
    "from sklearn.metrics import accuracy_score\n",
    "accuracy_score(actual, predicted)"
   ]
  },
  {
   "cell_type": "code",
   "execution_count": null,
   "id": "a69ba81a",
   "metadata": {},
   "outputs": [],
   "source": []
  }
 ],
 "metadata": {
  "kernelspec": {
   "display_name": "base",
   "language": "python",
   "name": "python3"
  },
  "language_info": {
   "codemirror_mode": {
    "name": "ipython",
    "version": 3
   },
   "file_extension": ".py",
   "mimetype": "text/x-python",
   "name": "python",
   "nbconvert_exporter": "python",
   "pygments_lexer": "ipython3",
   "version": "3.11.5"
  }
 },
 "nbformat": 4,
 "nbformat_minor": 5
}
