{
 "cells": [
  {
   "cell_type": "code",
   "execution_count": 6,
   "id": "9a9784eb",
   "metadata": {
    "papermill": {
     "duration": 7.651297,
     "end_time": "2022-11-12T19:23:27.502587",
     "exception": false,
     "start_time": "2022-11-12T19:23:19.85129",
     "status": "completed"
    },
    "tags": []
   },
   "outputs": [],
   "source": [
    "import math\n",
    "import numpy as np\n",
    "import pandas as pd\n",
    "import tensorflow as tf\n",
    "import matplotlib.pyplot as plt\n",
    "from tensorflow.keras import Model\n",
    "from tensorflow.keras import Sequential\n",
    "from tensorflow.keras.optimizers import Adam\n",
    "from sklearn.preprocessing import StandardScaler\n",
    "from tensorflow.keras.layers import Dense, Dropout\n",
    "from sklearn.model_selection import train_test_split\n",
    "from tensorflow.keras.losses import MeanSquaredLogarithmicError"
   ]
  },
  {
   "cell_type": "code",
   "execution_count": 7,
   "id": "d2935b10",
   "metadata": {
    "papermill": {
     "duration": 0.388366,
     "end_time": "2022-11-12T19:23:27.89808",
     "exception": false,
     "start_time": "2022-11-12T19:23:27.509714",
     "status": "completed"
    },
    "tags": []
   },
   "outputs": [],
   "source": [
    "df = np.loadtxt('https://raw.githubusercontent.com/jbrownlee/Datasets/master/pima-indians-diabetes.data.csv', delimiter=',')"
   ]
  },
  {
   "cell_type": "code",
   "execution_count": 8,
   "id": "15dcd7a7",
   "metadata": {
    "papermill": {
     "duration": 0.020734,
     "end_time": "2022-11-12T19:23:27.925627",
     "exception": false,
     "start_time": "2022-11-12T19:23:27.904893",
     "status": "completed"
    },
    "tags": []
   },
   "outputs": [
    {
     "data": {
      "text/plain": [
       "array([[  6.   , 148.   ,  72.   , ...,   0.627,  50.   ,   1.   ],\n",
       "       [  1.   ,  85.   ,  66.   , ...,   0.351,  31.   ,   0.   ],\n",
       "       [  8.   , 183.   ,  64.   , ...,   0.672,  32.   ,   1.   ],\n",
       "       ...,\n",
       "       [  5.   , 121.   ,  72.   , ...,   0.245,  30.   ,   0.   ],\n",
       "       [  1.   , 126.   ,  60.   , ...,   0.349,  47.   ,   1.   ],\n",
       "       [  1.   ,  93.   ,  70.   , ...,   0.315,  23.   ,   0.   ]])"
      ]
     },
     "execution_count": 8,
     "metadata": {},
     "output_type": "execute_result"
    }
   ],
   "source": [
    "df"
   ]
  },
  {
   "cell_type": "code",
   "execution_count": 9,
   "id": "a5a69a3d",
   "metadata": {
    "papermill": {
     "duration": 0.01712,
     "end_time": "2022-11-12T19:23:27.949965",
     "exception": false,
     "start_time": "2022-11-12T19:23:27.932845",
     "status": "completed"
    },
    "tags": []
   },
   "outputs": [
    {
     "data": {
      "text/plain": [
       "(768, 9)"
      ]
     },
     "execution_count": 9,
     "metadata": {},
     "output_type": "execute_result"
    }
   ],
   "source": [
    "df.shape"
   ]
  },
  {
   "cell_type": "code",
   "execution_count": 10,
   "id": "6b7fa3ff",
   "metadata": {
    "papermill": {
     "duration": 0.017249,
     "end_time": "2022-11-12T19:23:27.974337",
     "exception": false,
     "start_time": "2022-11-12T19:23:27.957088",
     "status": "completed"
    },
    "tags": []
   },
   "outputs": [],
   "source": [
    "x = df[:,:8]\n",
    "y = df[:,8]"
   ]
  },
  {
   "cell_type": "code",
   "execution_count": 11,
   "id": "fa5ad326",
   "metadata": {
    "papermill": {
     "duration": 0.022515,
     "end_time": "2022-11-12T19:23:28.005566",
     "exception": false,
     "start_time": "2022-11-12T19:23:27.983051",
     "status": "completed"
    },
    "tags": []
   },
   "outputs": [],
   "source": [
    "from sklearn.model_selection import train_test_split\n",
    "X_train, X_temp, y_train, y_temp = train_test_split(x, y, test_size=0.2, random_state=42)\n",
    "\n",
    "X_test, X_val, y_test, y_val = train_test_split(X_temp, y_temp, test_size=0.5, random_state=42)"
   ]
  },
  {
   "cell_type": "code",
   "execution_count": 12,
   "id": "4dc9ec81",
   "metadata": {
    "papermill": {
     "duration": 0.018342,
     "end_time": "2022-11-12T19:23:28.031252",
     "exception": false,
     "start_time": "2022-11-12T19:23:28.01291",
     "status": "completed"
    },
    "tags": []
   },
   "outputs": [
    {
     "name": "stdout",
     "output_type": "stream",
     "text": [
      "x train shape(614, 8)\n",
      "y train shape(614,)\n",
      "x test shape(77, 8)\n",
      "y test shape(77,)\n",
      "x val shape(77, 8)\n",
      "y val shape(77,)\n"
     ]
    }
   ],
   "source": [
    "print(f\"x train shape{X_train.shape}\")\n",
    "print(f\"y train shape{y_train.shape}\")\n",
    "print(f\"x test shape{X_test.shape}\")\n",
    "print(f\"y test shape{y_test.shape}\")\n",
    "print(f\"x val shape{X_val.shape}\")\n",
    "print(f\"y val shape{y_val.shape}\")"
   ]
  },
  {
   "cell_type": "code",
   "execution_count": 13,
   "id": "158acaef",
   "metadata": {
    "papermill": {
     "duration": 0.018303,
     "end_time": "2022-11-12T19:23:28.05689",
     "exception": false,
     "start_time": "2022-11-12T19:23:28.038587",
     "status": "completed"
    },
    "tags": []
   },
   "outputs": [],
   "source": [
    "from sklearn.preprocessing import StandardScaler\n",
    "scaler = StandardScaler()\n",
    "X_train = scaler.fit_transform(X_train)\n",
    "X_test = scaler.transform(X_test)\n",
    "X_val = scaler.transform(X_val)"
   ]
  },
  {
   "cell_type": "code",
   "execution_count": 14,
   "id": "1bbf24f1",
   "metadata": {
    "papermill": {
     "duration": 0.019165,
     "end_time": "2022-11-12T19:23:28.083282",
     "exception": false,
     "start_time": "2022-11-12T19:23:28.064117",
     "status": "completed"
    },
    "tags": []
   },
   "outputs": [
    {
     "data": {
      "text/plain": [
       "Counter({0.0: 500, 1.0: 268})"
      ]
     },
     "execution_count": 14,
     "metadata": {},
     "output_type": "execute_result"
    }
   ],
   "source": [
    "from collections import Counter\n",
    "Counter(y)"
   ]
  },
  {
   "cell_type": "code",
   "execution_count": 15,
   "id": "5c94bc61",
   "metadata": {
    "papermill": {
     "duration": 0.194263,
     "end_time": "2022-11-12T19:23:28.285212",
     "exception": false,
     "start_time": "2022-11-12T19:23:28.090949",
     "status": "completed"
    },
    "tags": []
   },
   "outputs": [],
   "source": [
    "import seaborn as sns"
   ]
  },
  {
   "cell_type": "code",
   "execution_count": 13,
   "id": "952c7743",
   "metadata": {
    "execution": {
     "iopub.execute_input": "2022-11-12T19:23:28.325596Z",
     "iopub.status.busy": "2022-11-12T19:23:28.325172Z",
     "iopub.status.idle": "2022-11-12T19:23:28.330701Z",
     "shell.execute_reply": "2022-11-12T19:23:28.329515Z"
    },
    "papermill": {
     "duration": 0.017043,
     "end_time": "2022-11-12T19:23:28.333356",
     "exception": false,
     "start_time": "2022-11-12T19:23:28.316313",
     "status": "completed"
    },
    "tags": []
   },
   "outputs": [],
   "source": [
    "from tensorflow.keras.models import Sequential"
   ]
  },
  {
   "cell_type": "code",
   "execution_count": 16,
   "id": "c4e9210b",
   "metadata": {
    "papermill": {
     "duration": 0.159372,
     "end_time": "2022-11-12T19:23:28.500373",
     "exception": false,
     "start_time": "2022-11-12T19:23:28.341001",
     "status": "completed"
    },
    "tags": []
   },
   "outputs": [],
   "source": [
    "model = Sequential([\n",
    "\n",
    "tf.keras.layers.InputLayer(8,),\n",
    "Dense(50,activation='relu'),\n",
    "    \n",
    "Dense(50,activation='relu'),\n",
    "Dense(50,activation='relu'),\n",
    "Dense(50,activation='relu'),\n",
    "    \n",
    "Dense(1,activation='sigmoid')\n",
    "])\n"
   ]
  },
  {
   "cell_type": "code",
   "execution_count": 17,
   "id": "467b87fa",
   "metadata": {
    "papermill": {
     "duration": 0.018213,
     "end_time": "2022-11-12T19:23:28.526043",
     "exception": false,
     "start_time": "2022-11-12T19:23:28.50783",
     "status": "completed"
    },
    "tags": []
   },
   "outputs": [
    {
     "name": "stdout",
     "output_type": "stream",
     "text": [
      "Model: \"sequential\"\n",
      "_________________________________________________________________\n",
      " Layer (type)                Output Shape              Param #   \n",
      "=================================================================\n",
      " dense (Dense)               (None, 50)                450       \n",
      "                                                                 \n",
      " dense_1 (Dense)             (None, 50)                2550      \n",
      "                                                                 \n",
      " dense_2 (Dense)             (None, 50)                2550      \n",
      "                                                                 \n",
      " dense_3 (Dense)             (None, 50)                2550      \n",
      "                                                                 \n",
      " dense_4 (Dense)             (None, 1)                 51        \n",
      "                                                                 \n",
      "=================================================================\n",
      "Total params: 8151 (31.84 KB)\n",
      "Trainable params: 8151 (31.84 KB)\n",
      "Non-trainable params: 0 (0.00 Byte)\n",
      "_________________________________________________________________\n"
     ]
    }
   ],
   "source": [
    "model.summary()"
   ]
  },
  {
   "cell_type": "code",
   "execution_count": 18,
   "id": "bdf0ed8b",
   "metadata": {
    "papermill": {
     "duration": 0.027099,
     "end_time": "2022-11-12T19:23:28.560515",
     "exception": false,
     "start_time": "2022-11-12T19:23:28.533416",
     "status": "completed"
    },
    "tags": []
   },
   "outputs": [],
   "source": [
    "opt = tf.keras.optimizers.Adam(learning_rate=0.0001)\n",
    "model.compile(loss='binary_crossentropy', optimizer=opt, metrics=['accuracy'])"
   ]
  },
  {
   "cell_type": "code",
   "execution_count": 30,
   "id": "02967cdb",
   "metadata": {
    "papermill": {
     "duration": 27.671257,
     "end_time": "2022-11-12T19:23:56.239208",
     "exception": false,
     "start_time": "2022-11-12T19:23:28.567951",
     "status": "completed"
    },
    "tags": []
   },
   "outputs": [
    {
     "name": "stdout",
     "output_type": "stream",
     "text": [
      "Epoch 1/25\n",
      "2/2 [==============================] - 0s 123ms/step - loss: 0.4009 - accuracy: 0.8164 - val_loss: 0.7909 - val_accuracy: 0.6104\n",
      "Epoch 2/25\n",
      "2/2 [==============================] - 0s 66ms/step - loss: 0.4012 - accuracy: 0.8151 - val_loss: 0.7909 - val_accuracy: 0.6104\n",
      "Epoch 3/25\n",
      "2/2 [==============================] - 0s 69ms/step - loss: 0.4016 - accuracy: 0.8112 - val_loss: 0.7910 - val_accuracy: 0.6104\n",
      "Epoch 4/25\n",
      "2/2 [==============================] - 0s 62ms/step - loss: 0.4006 - accuracy: 0.8138 - val_loss: 0.7913 - val_accuracy: 0.6104\n",
      "Epoch 5/25\n",
      "2/2 [==============================] - 0s 67ms/step - loss: 0.4001 - accuracy: 0.8190 - val_loss: 0.7916 - val_accuracy: 0.6104\n",
      "Epoch 6/25\n",
      "2/2 [==============================] - 0s 55ms/step - loss: 0.4001 - accuracy: 0.8190 - val_loss: 0.7919 - val_accuracy: 0.6104\n",
      "Epoch 7/25\n",
      "2/2 [==============================] - 0s 64ms/step - loss: 0.4001 - accuracy: 0.8190 - val_loss: 0.7920 - val_accuracy: 0.6104\n",
      "Epoch 8/25\n",
      "2/2 [==============================] - 0s 78ms/step - loss: 0.3995 - accuracy: 0.8190 - val_loss: 0.7921 - val_accuracy: 0.6104\n",
      "Epoch 9/25\n",
      "2/2 [==============================] - 0s 41ms/step - loss: 0.3988 - accuracy: 0.8151 - val_loss: 0.7921 - val_accuracy: 0.6104\n",
      "Epoch 10/25\n",
      "2/2 [==============================] - 0s 43ms/step - loss: 0.3988 - accuracy: 0.8177 - val_loss: 0.7922 - val_accuracy: 0.6104\n",
      "Epoch 11/25\n",
      "2/2 [==============================] - 0s 68ms/step - loss: 0.3989 - accuracy: 0.8164 - val_loss: 0.7923 - val_accuracy: 0.6104\n",
      "Epoch 12/25\n",
      "2/2 [==============================] - 0s 60ms/step - loss: 0.3993 - accuracy: 0.8138 - val_loss: 0.7925 - val_accuracy: 0.6104\n",
      "Epoch 13/25\n",
      "2/2 [==============================] - 0s 75ms/step - loss: 0.3988 - accuracy: 0.8151 - val_loss: 0.7927 - val_accuracy: 0.6104\n",
      "Epoch 14/25\n",
      "2/2 [==============================] - 0s 51ms/step - loss: 0.3986 - accuracy: 0.8177 - val_loss: 0.7928 - val_accuracy: 0.6104\n",
      "Epoch 15/25\n",
      "2/2 [==============================] - 0s 66ms/step - loss: 0.3985 - accuracy: 0.8164 - val_loss: 0.7930 - val_accuracy: 0.6104\n",
      "Epoch 16/25\n",
      "2/2 [==============================] - 0s 106ms/step - loss: 0.3985 - accuracy: 0.8190 - val_loss: 0.7932 - val_accuracy: 0.6104\n",
      "Epoch 17/25\n",
      "2/2 [==============================] - 0s 82ms/step - loss: 0.3986 - accuracy: 0.8151 - val_loss: 0.7933 - val_accuracy: 0.6104\n",
      "Epoch 18/25\n",
      "2/2 [==============================] - 0s 85ms/step - loss: 0.3988 - accuracy: 0.8151 - val_loss: 0.7935 - val_accuracy: 0.6104\n",
      "Epoch 19/25\n",
      "2/2 [==============================] - 0s 64ms/step - loss: 0.3986 - accuracy: 0.8151 - val_loss: 0.7935 - val_accuracy: 0.6104\n",
      "Epoch 20/25\n",
      "2/2 [==============================] - 0s 48ms/step - loss: 0.3982 - accuracy: 0.8164 - val_loss: 0.7936 - val_accuracy: 0.6104\n",
      "Epoch 21/25\n",
      "2/2 [==============================] - 0s 64ms/step - loss: 0.3982 - accuracy: 0.8203 - val_loss: 0.7937 - val_accuracy: 0.6104\n",
      "Epoch 22/25\n",
      "2/2 [==============================] - 0s 68ms/step - loss: 0.3984 - accuracy: 0.8177 - val_loss: 0.7939 - val_accuracy: 0.6104\n",
      "Epoch 23/25\n",
      "2/2 [==============================] - 0s 91ms/step - loss: 0.3985 - accuracy: 0.8151 - val_loss: 0.7941 - val_accuracy: 0.6104\n",
      "Epoch 24/25\n",
      "2/2 [==============================] - 0s 98ms/step - loss: 0.3982 - accuracy: 0.8203 - val_loss: 0.7943 - val_accuracy: 0.6104\n",
      "Epoch 25/25\n",
      "2/2 [==============================] - 0s 64ms/step - loss: 0.3981 - accuracy: 0.8203 - val_loss: 0.7945 - val_accuracy: 0.6104\n"
     ]
    }
   ],
   "source": [
    "history = model.fit(x=x,y=y,epochs=25, batch_size=500,validation_data=(X_val,y_val))"
   ]
  },
  {
   "cell_type": "code",
   "execution_count": 31,
   "id": "5db75ad0",
   "metadata": {
    "papermill": {
     "duration": 0.382105,
     "end_time": "2022-11-12T19:23:56.668239",
     "exception": false,
     "start_time": "2022-11-12T19:23:56.286134",
     "status": "completed"
    },
    "tags": []
   },
   "outputs": [
    {
     "data": {
      "text/plain": [
       "<AxesSubplot: >"
      ]
     },
     "execution_count": 31,
     "metadata": {},
     "output_type": "execute_result"
    },
    {
     "data": {
      "image/png": "[encoded data removed]",
      "text/plain": [
       "<Figure size 640x480 with 1 Axes>"
      ]
     },
     "metadata": {},
     "output_type": "display_data"
    }
   ],
   "source": [
    "losses = pd.DataFrame(model.history.history)\n",
    "losses.plot()"
   ]
  },
  {
   "cell_type": "code",
   "execution_count": 32,
   "id": "95e5f2a0",
   "metadata": {
    "papermill": {
     "duration": 0.307024,
     "end_time": "2022-11-12T19:23:57.019804",
     "exception": false,
     "start_time": "2022-11-12T19:23:56.71278",
     "status": "completed"
    },
    "tags": []
   },
   "outputs": [
    {
     "name": "stdout",
     "output_type": "stream",
     "text": [
      "24/24 [==============================] - 0s 7ms/step - loss: 0.3981 - accuracy: 0.8190\n"
     ]
    },
    {
     "data": {
      "text/plain": [
       "[0.3981264531612396, 0.8190104365348816]"
      ]
     },
     "execution_count": 32,
     "metadata": {},
     "output_type": "execute_result"
    }
   ],
   "source": [
    "model.evaluate(x,y)"
   ]
  },
  {
   "cell_type": "code",
   "execution_count": 33,
   "id": "bd2f7489",
   "metadata": {
    "papermill": {
     "duration": 0.214614,
     "end_time": "2022-11-12T19:23:57.280868",
     "exception": false,
     "start_time": "2022-11-12T19:23:57.066254",
     "status": "completed"
    },
    "tags": []
   },
   "outputs": [
    {
     "name": "stdout",
     "output_type": "stream",
     "text": [
      "3/3 [==============================] - 0s 6ms/step\n"
     ]
    },
    {
     "data": {
      "text/plain": [
       "array([[0.19067593],\n",
       "       [0.19199562],\n",
       "       [0.12028762],\n",
       "       [0.12056991],\n",
       "       [0.08439234],\n",
       "       [0.17099527],\n",
       "       [0.12366695],\n",
       "       [0.20651293],\n",
       "       [0.20941985],\n",
       "       [0.15472724],\n",
       "       [0.13664874],\n",
       "       [0.21422127],\n",
       "       [0.15540652],\n",
       "       [0.17577767],\n",
       "       [0.18489483],\n",
       "       [0.20770562],\n",
       "       [0.18772168],\n",
       "       [0.22056726],\n",
       "       [0.21485648],\n",
       "       [0.21828829],\n",
       "       [0.12115736],\n",
       "       [0.1883155 ],\n",
       "       [0.24208197],\n",
       "       [0.14715748],\n",
       "       [0.15659195],\n",
       "       [0.12092391],\n",
       "       [0.20264044],\n",
       "       [0.1654087 ],\n",
       "       [0.16633132],\n",
       "       [0.18862365],\n",
       "       [0.21634044],\n",
       "       [0.18640423],\n",
       "       [0.2316734 ],\n",
       "       [0.17272425],\n",
       "       [0.18025881],\n",
       "       [0.2274827 ],\n",
       "       [0.25268403],\n",
       "       [0.16944598],\n",
       "       [0.14875412],\n",
       "       [0.13752207],\n",
       "       [0.1651227 ],\n",
       "       [0.14246757],\n",
       "       [0.20300068],\n",
       "       [0.16977538],\n",
       "       [0.1331932 ],\n",
       "       [0.20911501],\n",
       "       [0.18446396],\n",
       "       [0.07179271],\n",
       "       [0.17416352],\n",
       "       [0.16832711],\n",
       "       [0.19544922],\n",
       "       [0.25303903],\n",
       "       [0.17899173],\n",
       "       [0.2198722 ],\n",
       "       [0.21194766],\n",
       "       [0.16202568],\n",
       "       [0.0634077 ],\n",
       "       [0.20405914],\n",
       "       [0.18574911],\n",
       "       [0.2142827 ],\n",
       "       [0.1272719 ],\n",
       "       [0.15324473],\n",
       "       [0.21843497],\n",
       "       [0.13171278],\n",
       "       [0.17464535],\n",
       "       [0.2314195 ],\n",
       "       [0.1949308 ],\n",
       "       [0.20401546],\n",
       "       [0.19573765],\n",
       "       [0.17276601],\n",
       "       [0.21602567],\n",
       "       [0.22562845],\n",
       "       [0.20881379],\n",
       "       [0.16267908],\n",
       "       [0.15343472],\n",
       "       [0.0625412 ],\n",
       "       [0.23691072]], dtype=float32)"
      ]
     },
     "execution_count": 33,
     "metadata": {},
     "output_type": "execute_result"
    }
   ],
   "source": [
    "y_pred = model.predict(X_test)\n",
    "y_pred"
   ]
  }
 ],
 "metadata": {
  "kernelspec": {
   "display_name": "Python 3 (ipykernel)",
   "language": "python",
   "name": "python3"
  },
  "language_info": {
   "codemirror_mode": {
    "name": "ipython",
    "version": 3
   },
   "file_extension": ".py",
   "mimetype": "text/x-python",
   "name": "python",
   "nbconvert_exporter": "python",
   "pygments_lexer": "ipython3",
   "version": "3.10.12"
  },
  "papermill": {
   "default_parameters": {},
   "duration": 50.227216,
   "end_time": "2022-11-12T19:24:01.303729",
   "environment_variables": {},
   "exception": null,
   "input_path": "__notebook__.ipynb",
   "output_path": "__notebook__.ipynb",
   "parameters": {},
   "start_time": "2022-11-12T19:23:11.076513",
   "version": "2.3.4"
  }
 },
 "nbformat": 4,
 "nbformat_minor": 5
}
